{
  "nbformat": 4,
  "nbformat_minor": 2,
  "metadata": {
    "orig_nbformat": 4,
    "language_info": {
      "name": "python",
      "version": "3.8.10",
      "mimetype": "text/x-python",
      "codemirror_mode": {
        "name": "ipython",
        "version": 3
      },
      "pygments_lexer": "ipython3",
      "nbconvert_exporter": "python",
      "file_extension": ".py"
    },
    "kernelspec": {
      "name": "python3",
      "display_name": "Python 3.8.10 64-bit"
    },
    "interpreter": {
      "hash": "31f2aee4e71d21fbe5cf8b01ff0e069b9275f58929596ceb00d14d90e3e16cd6"
    },
    "colab": {
      "name": "ManySimsTrue.ipynb",
      "provenance": [],
      "collapsed_sections": []
    }
  },
  "cells": [
    {
      "cell_type": "markdown",
      "source": [
        "# Introduction:\n",
        "In this notebook, we present the simulations for the different update functions implemented.\n",
        "\n",
        "Below, we briefly describe the other caracteristics of the simulations tested here."
      ],
      "metadata": {
        "id": "HDzthOdqP-Mj"
      }
    },
    {
      "cell_type": "markdown",
      "source": [
        "# Initial belief states used:\n",
        "*   Uniform: Agents are uniformly distributed in all possible beliefs.\n",
        "   *  Code: Belief.UNIFORM\n",
        "*   Mild: Agents are mildly polarized, forming two groups with median belief approximatly at 1/3 and 2/3 of the total.\n",
        "   *  Code: Belief.MILD\n",
        "*   Extreme: Agents are extremly polarized, forming two extreme groups.\n",
        "   *  Code: Belief.EXTREME\n",
        "*   Triple: Three different groups of agents, one in the middle and two at the extremes of the possible beliefs.\n",
        "   *  Code: Belief.TRIPLE"
      ],
      "metadata": {
        "id": "wuMQyrUiS6d8"
      }
    },
    {
      "cell_type": "markdown",
      "source": [
        "# Influence graphs used (Static): \n",
        "\n",
        "Note: the influence graphs here are all static, they do not change during the simulation.\n",
        "\n",
        "*   Clique: All agents are connected and influence directly every other agent.\n",
        "   *  Code: Influence.CLIQUE\n",
        "*   Disconnected groups: Agents form two disconnected groups, only influencing agents in the same group.\n",
        "   *  Code: Influence.GROUP_2_DISCONECTED\n",
        "*   Faintly connected groups: Agents form two groups barely connected.\n",
        "   *  Code: Influence.GROUP_2_FAINT\n",
        "*   Super influencers: a group influenced by two extreme influencers that can not be influenced themselves.\n",
        "   *  Code: Influence.INFLUENCERS_2_BALANCED\n",
        "*   Circular: a circular graph, in with every agent influences and is influenced by exacly one other agent, and following the chain of influence of any agent you eventually get back to the start.\n",
        "   *  Code:Influence.CIRCULAR"
      ],
      "metadata": {
        "id": "VN9oFh1cTBRt"
      }
    },
    {
      "cell_type": "markdown",
      "source": [
        "# The simulation:\n",
        "\n",
        "Below we have the code that creates the PDF of the simulations of every case. The results are stored in the \"files\" section (if you are using colab), after the code is executed. You can download the PDF in https://drive.google.com/drive/folders/1ZNvU9xk29uZQ76rgiN4Z3-qJ84a85UGX?usp=sharing. \n",
        "\n",
        "\n",
        "Each file represents a update-function. In each plotted graph the code of the underlying influence graph and initial belief state is explicited."
      ],
      "metadata": {
        "id": "i-g9Ase4T6gh"
      }
    },
    {
      "cell_type": "code",
      "execution_count": null,
      "source": [
        "from simulation_multiple import ManySimulations\n",
        "from belief_states import Belief\n",
        "from influence_graphs import Influence\n",
        "from backfire_update_funs import BF_Update_Functions, NewUpdate\n",
        "from update_functions import Update"
      ],
      "outputs": [],
      "metadata": {
        "id": "8J_8MkceoaZ-"
      }
    },
    {
      "cell_type": "code",
      "execution_count": null,
      "source": [
        "#Creating function container:\n",
        "fun_container=BF_Update_Functions()"
      ],
      "outputs": [],
      "metadata": {
        "id": "YzipxWQae-1-"
      }
    },
    {
      "cell_type": "code",
      "execution_count": null,
      "source": [
        "#Changing parameters of functions:\n",
        "tuples=filter(lambda val : type(val) is tuple,fun_container.dictionary.keys())\n",
        "tuples=filter(lambda val : len(val)==2,tuples)\n",
        "rotate=[r for r in filter(lambda val : val[0]==Update.LINEROTATE,tuples)]\n",
        "\n",
        "tuples=filter(lambda val : type(val) is tuple,fun_container.dictionary.keys())\n",
        "tuples=filter(lambda val : len(val)==2,tuples)\n",
        "modulus=[m for m in filter(lambda val : val[0]==NewUpdate.INVMOD,tuples)]\n",
        "\n",
        "tuples=filter(lambda val : type(val) is tuple,fun_container.dictionary.keys())\n",
        "tuples=filter(lambda val : len(val)==2,tuples)\n",
        "quadratic=[q for q in filter(lambda val : val[0]==NewUpdate.INVQUAD,tuples)]\n",
        "\n",
        "tuples=filter(lambda val : type(val) is tuple,fun_container.dictionary.keys())\n",
        "tuples=filter(lambda val : len(val)==2,tuples)\n",
        "cubicBF=[c for c in filter(lambda val : val[0]==NewUpdate.CUBIC,tuples)]\n",
        "\n",
        "tuples=filter(lambda val : type(val) is tuple,fun_container.dictionary.keys())\n",
        "tuples=filter(lambda val : len(val)==2,tuples)\n",
        "isolBF=[i for i in filter(lambda val : val[0]==NewUpdate.BFISOLATED,tuples)]\n",
        "\n",
        "tuples=filter(lambda val : type(val) is tuple,fun_container.dictionary.keys())\n",
        "tuples=filter(lambda val : len(val)==2,tuples)\n",
        "superCubic=[s for s in filter(lambda val : val[0]==NewUpdate.SUPERCUB,tuples)]\n",
        "\n",
        "tuples=filter(lambda val : type(val) is tuple,fun_container.dictionary.keys())\n",
        "tuples=filter(lambda val : len(val)==2,tuples)\n",
        "cubicNC=[c for c in filter(lambda val : val[0]==NewUpdate.CUBICNC,tuples)]"
      ],
      "outputs": [],
      "metadata": {
        "id": "l0MISow_oaaG"
      }
    },
    {
      "cell_type": "code",
      "execution_count": null,
      "source": [
        "#Setting beliefs and influences:\n",
        "allInfs=[inf for inf in Influence]\n",
        "allBlfs=[blf for blf in Belief]"
      ],
      "outputs": [],
      "metadata": {
        "id": "3sXv_OnMoaaJ"
      }
    },
    {
      "cell_type": "code",
      "execution_count": null,
      "source": [
        "simsRot=ManySimulations(rotate,allBlfs,allInfs,up_funs=fun_container)\n",
        "simsRot.run()\n",
        "simsRot.plot_polarization(\"pols/Rotated.pdf\")"
      ],
      "outputs": [
        {
          "output_type": "stream",
          "name": "stderr",
          "text": [
            "Progress: [====================] 216/216 Done      "
          ]
        },
        {
          "output_type": "stream",
          "name": "stdout",
          "text": [
            "\n"
          ]
        }
      ],
      "metadata": {
        "colab": {
          "base_uri": "https://localhost:8080/"
        },
        "id": "BXwYIiV8oaaK",
        "outputId": "0e7eb3bb-48cd-4753-dca2-91f2512f9e1d"
      }
    },
    {
      "cell_type": "code",
      "execution_count": null,
      "source": [
        "simsMod=ManySimulations(modulus,allBlfs,allInfs,up_funs=fun_container)\n",
        "simsMod.run()\n",
        "simsMod.plot_polarization(\"pols/Modulus.pdf\")"
      ],
      "outputs": [
        {
          "output_type": "stream",
          "name": "stderr",
          "text": [
            "Progress: [====================] 216/216 Done      "
          ]
        },
        {
          "output_type": "stream",
          "name": "stdout",
          "text": [
            "\n"
          ]
        }
      ],
      "metadata": {
        "colab": {
          "base_uri": "https://localhost:8080/"
        },
        "id": "gEpH7g5uoaaL",
        "outputId": "c9a8afc4-6fe9-429b-e353-dc68ac2e962a"
      }
    },
    {
      "cell_type": "code",
      "execution_count": null,
      "source": [
        "simsQuad=ManySimulations(quadratic,allBlfs,allInfs,up_funs=fun_container)\n",
        "simsQuad.run()\n",
        "simsQuad.plot_polarization(\"pols/Quadratic.pdf\")"
      ],
      "outputs": [
        {
          "output_type": "stream",
          "name": "stderr",
          "text": [
            "Progress: [====================] 216/216 Done      "
          ]
        },
        {
          "output_type": "stream",
          "name": "stdout",
          "text": [
            "\n"
          ]
        }
      ],
      "metadata": {
        "colab": {
          "base_uri": "https://localhost:8080/"
        },
        "id": "3MGyVJjzoaaM",
        "outputId": "267638ba-acfa-446e-9d72-b26548b3957c"
      }
    },
    {
      "cell_type": "code",
      "execution_count": null,
      "source": [
        "simsCubic=ManySimulations(cubicBF,allBlfs,allInfs,up_funs=fun_container)\n",
        "simsCubic.run()\n",
        "simsCubic.plot_polarization(\"pols/CubicBackfire.pdf\")"
      ],
      "outputs": [
        {
          "output_type": "stream",
          "name": "stderr",
          "text": [
            "Progress: [====================] 216/216 Done      "
          ]
        },
        {
          "output_type": "stream",
          "name": "stdout",
          "text": [
            "\n"
          ]
        }
      ],
      "metadata": {
        "colab": {
          "base_uri": "https://localhost:8080/"
        },
        "id": "xRVOFR61oaaN",
        "outputId": "c2d710c0-6646-4ca3-af6c-8fbda0febe42"
      }
    },
    {
      "cell_type": "code",
      "execution_count": null,
      "source": [
        "simsIBF=ManySimulations(isolBF,allBlfs,allInfs,up_funs=fun_container)\n",
        "simsIBF.run()\n",
        "simsIBF.plot_polarization(\"pols/IsolatedBackfire.pdf\")"
      ],
      "outputs": [
        {
          "output_type": "stream",
          "name": "stderr",
          "text": [
            "Progress: [====================] 216/216 Done      "
          ]
        },
        {
          "output_type": "stream",
          "name": "stdout",
          "text": [
            "\n"
          ]
        }
      ],
      "metadata": {
        "colab": {
          "base_uri": "https://localhost:8080/"
        },
        "id": "1CVAgybjoaaO",
        "outputId": "66e2a524-7891-4f66-d39f-4b785aa0e739"
      }
    },
    {
      "cell_type": "code",
      "execution_count": null,
      "source": [
        "simsSCub=ManySimulations(superCubic,allBlfs,allInfs,up_funs=fun_container)\n",
        "simsSCub.run()\n",
        "simsSCub.plot_polarization(\"pols/SuperCubic.pdf\")"
      ],
      "outputs": [
        {
          "output_type": "stream",
          "name": "stderr",
          "text": [
            "Progress: [====================] 216/216 Done      "
          ]
        },
        {
          "output_type": "stream",
          "name": "stdout",
          "text": [
            "\n"
          ]
        }
      ],
      "metadata": {
        "colab": {
          "base_uri": "https://localhost:8080/"
        },
        "id": "18qWAAGbaqTh",
        "outputId": "0b25642c-7fd1-4071-a7dd-a06d1cbbf116"
      }
    },
    {
      "cell_type": "code",
      "execution_count": null,
      "source": [
        "simsCubNC=ManySimulations(cubicNC,allBlfs,allInfs,up_funs=fun_container)\n",
        "simsCubNC.run()\n",
        "simsCubNC.plot_polarization(\"pols/CubicNC.pdf\")\n"
      ],
      "outputs": [
        {
          "output_type": "stream",
          "name": "stderr",
          "text": [
            "Progress: [====================] 216/216 Done      "
          ]
        },
        {
          "output_type": "stream",
          "name": "stdout",
          "text": [
            "\n"
          ]
        }
      ],
      "metadata": {
        "colab": {
          "base_uri": "https://localhost:8080/"
        },
        "id": "KIFzcMILe7Th",
        "outputId": "28801bf8-b4b0-40a2-a599-0eb85c3c0edb"
      }
    },
    {
      "cell_type": "code",
      "execution_count": null,
      "source": [
        "simsRot.plot_agents(\"ags/RotatedAgents.pdf\")"
      ],
      "outputs": [],
      "metadata": {
        "id": "x3TE8C0UoaaP"
      }
    },
    {
      "cell_type": "code",
      "execution_count": null,
      "source": [
        "simsMod.plot_agents(\"ags/ModAgents.pdf\")"
      ],
      "outputs": [],
      "metadata": {
        "id": "qMxjUn5uoaaQ"
      }
    },
    {
      "cell_type": "code",
      "execution_count": null,
      "source": [
        "simsQuad.plot_agents(\"ags/QuadAgents.pdf\")"
      ],
      "outputs": [],
      "metadata": {
        "id": "ZC7t9YiioaaS"
      }
    },
    {
      "cell_type": "code",
      "execution_count": null,
      "source": [
        "simsCubic.plot_agents(\"ags/AgentsCubicBF.pdf\")"
      ],
      "outputs": [],
      "metadata": {
        "id": "5jBzaMRkoaaT"
      }
    },
    {
      "cell_type": "code",
      "execution_count": null,
      "source": [
        "simsIBF.plot_agents(\"ags/AgentsIsoltedBF.pdf\")"
      ],
      "outputs": [],
      "metadata": {
        "id": "cTMPWz3ioaaU"
      }
    },
    {
      "cell_type": "code",
      "execution_count": null,
      "source": [
        "simsSCub.plot_agents(\"ags/SuperCubic.pdf\")"
      ],
      "outputs": [],
      "metadata": {
        "id": "3KTEhcS3a3YN"
      }
    },
    {
      "cell_type": "code",
      "execution_count": null,
      "source": [
        "simsCubNC.plot_agents(\"ags/CubicNC.pdf\")"
      ],
      "outputs": [],
      "metadata": {
        "id": "vrYWjfNQfFPq"
      }
    }
  ]
}